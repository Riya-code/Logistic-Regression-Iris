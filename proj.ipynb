{
    "cells": [
        {
            "cell_type": "code",
            "execution_count": 1,
            "source": [
                "import pandas as pd\n",
                "dataset = pd.read_csv('dataset_iris.csv')\n",
                "\n",
                "x = dataset.iloc[:, 1:-1].values\n",
                "y = dataset.iloc[:, -1].values\n",
                "print(x[:10])\n",
                "print(y[:10])\n",
                "#spliting\n",
                "from sklearn.model_selection import train_test_split\n",
                "x_train, x_test, y_train, y_test = train_test_split(x, y, test_size = 0.2, random_state = 0)\n",
                "from sklearn.preprocessing import StandardScaler\n",
                "sc = StandardScaler()\n",
                "x_train = sc.fit_transform(x_train)\n",
                "x_test = sc.transform(x_test)\n",
                "from sklearn.linear_model import LogisticRegression\n",
                "classifier = LogisticRegression(multi_class='ovr', random_state = 0)\n",
                "classifier.fit(x_train, y_train)\n",
                "from sklearn.metrics import confusion_matrix, accuracy_score\n",
                "predictions = classifier.predict(x_test)\n",
                "cm = confusion_matrix(predictions, y_test)\n",
                "print(cm)\n",
                "accuracy_score(predictions, y_test)"
            ],
            "outputs": [
                {
                    "output_type": "stream",
                    "name": "stdout",
                    "text": [
                        "[[5.1 3.5 1.4 0.2]\n",
                        " [4.9 3.  1.4 0.2]\n",
                        " [4.7 3.2 1.3 0.2]\n",
                        " [4.6 3.1 1.5 0.2]\n",
                        " [5.  3.6 1.4 0.2]\n",
                        " [5.4 3.9 1.7 0.4]\n",
                        " [4.6 3.4 1.4 0.3]\n",
                        " [5.  3.4 1.5 0.2]\n",
                        " [4.4 2.9 1.4 0.2]\n",
                        " [4.9 3.1 1.5 0.1]]\n",
                        "['Iris-setosa' 'Iris-setosa' 'Iris-setosa' 'Iris-setosa' 'Iris-setosa'\n",
                        " 'Iris-setosa' 'Iris-setosa' 'Iris-setosa' 'Iris-setosa' 'Iris-setosa']\n",
                        "[[11  0  0]\n",
                        " [ 0 11  1]\n",
                        " [ 0  2  5]]\n"
                    ]
                },
                {
                    "output_type": "execute_result",
                    "data": {
                        "text/plain": [
                            "0.9"
                        ]
                    },
                    "metadata": {},
                    "execution_count": 1
                }
            ],
            "metadata": {}
        }
    ],
    "metadata": {
        "orig_nbformat": 4,
        "language_info": {
            "name": "python",
            "version": "3.8.10",
            "mimetype": "text/x-python",
            "codemirror_mode": {
                "name": "ipython",
                "version": 3
            },
            "pygments_lexer": "ipython3",
            "nbconvert_exporter": "python",
            "file_extension": ".py"
        },
        "kernelspec": {
            "name": "python3",
            "display_name": "Python 3.8.10 64-bit"
        },
        "interpreter": {
            "hash": "916dbcbb3f70747c44a77c7bcd40155683ae19c65e1c03b4aa3499c5328201f1"
        }
    },
    "nbformat": 4,
    "nbformat_minor": 2
}